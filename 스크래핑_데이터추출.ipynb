{
 "cells": [
  {
   "cell_type": "code",
   "execution_count": 7,
   "metadata": {},
   "outputs": [
    {
     "name": "stdout",
     "output_type": "stream",
     "text": [
      "Collecting xmltodict\n",
      "  Downloading xmltodict-0.13.0-py2.py3-none-any.whl (10.0 kB)\n",
      "Installing collected packages: xmltodict\n",
      "Successfully installed xmltodict-0.13.0\n",
      "Note: you may need to restart the kernel to use updated packages.\n"
     ]
    },
    {
     "name": "stderr",
     "output_type": "stream",
     "text": [
      "WARNING: You are using pip version 22.0.4; however, version 23.1.2 is available.\n",
      "You should consider upgrading via the 'c:\\Users\\LG\\AppData\\Local\\Programs\\Python\\Python39\\python.exe -m pip install --upgrade pip' command.\n"
     ]
    }
   ],
   "source": [
    "pip install xmltodict"
   ]
  },
  {
   "cell_type": "code",
   "execution_count": 17,
   "metadata": {},
   "outputs": [
    {
     "name": "stdout",
     "output_type": "stream",
     "text": [
      "Collecting feedparser\n",
      "  Downloading feedparser-6.0.10-py3-none-any.whl (81 kB)\n",
      "     ---------------------------------------- 81.1/81.1 KB 1.1 MB/s eta 0:00:00\n",
      "Collecting sgmllib3k\n",
      "  Downloading sgmllib3k-1.0.0.tar.gz (5.8 kB)\n",
      "  Preparing metadata (setup.py): started\n",
      "  Preparing metadata (setup.py): finished with status 'done'\n",
      "Using legacy 'setup.py install' for sgmllib3k, since package 'wheel' is not installed.\n",
      "Installing collected packages: sgmllib3k, feedparser\n",
      "  Running setup.py install for sgmllib3k: started\n",
      "  Running setup.py install for sgmllib3k: finished with status 'done'\n",
      "Successfully installed feedparser-6.0.10 sgmllib3k-1.0.0\n",
      "Note: you may need to restart the kernel to use updated packages.\n"
     ]
    },
    {
     "name": "stderr",
     "output_type": "stream",
     "text": [
      "WARNING: You are using pip version 22.0.4; however, version 23.1.2 is available.\n",
      "You should consider upgrading via the 'c:\\Users\\LG\\AppData\\Local\\Programs\\Python\\Python39\\python.exe -m pip install --upgrade pip' command.\n"
     ]
    }
   ],
   "source": [
    "pip install feedparser"
   ]
  },
  {
   "cell_type": "code",
   "execution_count": 15,
   "metadata": {},
   "outputs": [
    {
     "name": "stdout",
     "output_type": "stream",
     "text": [
      "Requirement already satisfied: bs4 in c:\\users\\lg\\appdata\\local\\programs\\python\\python39\\lib\\site-packages (0.0.1)\n",
      "Requirement already satisfied: beautifulsoup4 in c:\\users\\lg\\appdata\\local\\programs\\python\\python39\\lib\\site-packages (from bs4) (4.12.2)\n",
      "Requirement already satisfied: soupsieve>1.2 in c:\\users\\lg\\appdata\\local\\programs\\python\\python39\\lib\\site-packages (from beautifulsoup4->bs4) (2.4.1)\n",
      "Note: you may need to restart the kernel to use updated packages.\n"
     ]
    },
    {
     "name": "stderr",
     "output_type": "stream",
     "text": [
      "WARNING: You are using pip version 22.0.4; however, version 23.1.2 is available.\n",
      "You should consider upgrading via the 'c:\\Users\\LG\\AppData\\Local\\Programs\\Python\\Python39\\python.exe -m pip install --upgrade pip' command.\n"
     ]
    }
   ],
   "source": [
    "pip install bs4"
   ]
  },
  {
   "cell_type": "code",
   "execution_count": 45,
   "metadata": {},
   "outputs": [],
   "source": [
    "import pandas as pd\n",
    "import numpy as np\n",
    "import matplotlib.pyplot as plt\n",
    "import seaborn as sns\n",
    "%matplotlib inline\n",
    "import urllib.robotparser\n",
    "import xmltodict\n",
    "import requests\n",
    "import feedparser\n",
    "import os\n",
    "import requests\n",
    "import re\n",
    "from bs4 import BeautifulSoup\n",
    "from dateutil import parser"
   ]
  },
  {
   "attachments": {},
   "cell_type": "markdown",
   "metadata": {},
   "source": [
    "### 로이터 뉴스 "
   ]
  },
  {
   "attachments": {},
   "cell_type": "markdown",
   "metadata": {},
   "source": [
    "### URL 생성하기"
   ]
  },
  {
   "cell_type": "code",
   "execution_count": 13,
   "metadata": {},
   "outputs": [
    {
     "data": {
      "text/plain": [
       "True"
      ]
     },
     "execution_count": 13,
     "metadata": {},
     "output_type": "execute_result"
    }
   ],
   "source": [
    "# robots.txt해석\n",
    "rp = urllib.robotparser.RobotFileParser()\n",
    "rp.set_url('https://www.reuters.com/robots.txt')\n",
    "rp.read()\n",
    "rp.can_fetch('*', 'https://www.reuters.com/sitemap.xml')"
   ]
  },
  {
   "cell_type": "code",
   "execution_count": 14,
   "metadata": {},
   "outputs": [
    {
     "data": {
      "text/plain": [
       "True"
      ]
     },
     "execution_count": 14,
     "metadata": {},
     "output_type": "execute_result"
    }
   ],
   "source": [
    "rp.can_fetch('*', 'https:/www.reuters.com/arc/outboundfeeds/news-sitemap/?outputType=xml')"
   ]
  },
  {
   "cell_type": "code",
   "execution_count": 15,
   "metadata": {},
   "outputs": [
    {
     "data": {
      "text/plain": [
       "False"
      ]
     },
     "execution_count": 15,
     "metadata": {},
     "output_type": "execute_result"
    }
   ],
   "source": [
    "rp.can_fetch(\"*\", \"https://www.reuters.com/finance/stocks/option\")"
   ]
  },
  {
   "attachments": {},
   "cell_type": "markdown",
   "metadata": {},
   "source": [
    "#### sitemap.xml 파일로 URL 획득"
   ]
  },
  {
   "cell_type": "code",
   "execution_count": 16,
   "metadata": {},
   "outputs": [],
   "source": [
    "sitemap = xmltodict.parse(requests.get(\n",
    "    'https://www.reuters.com/arc/outboundfeeds/news-sitemap/?outputType=xml').text\n",
    ")"
   ]
  },
  {
   "cell_type": "code",
   "execution_count": 17,
   "metadata": {},
   "outputs": [
    {
     "name": "stdout",
     "output_type": "stream",
     "text": [
      "https://www.reuters.com/markets/us/blackstone-reit-says-redemption-requests-declined-june-2023-07-03/\n",
      "https://www.reuters.com/world/middle-east/dubai-leads-most-gulf-markets-higher-qatar-falls-2023-07-03/\n",
      "https://www.reuters.com/fr/actualites/ukraine-un-ancien-haut-responsable-de-la-scurit-accus-de-trahison-2023-07-03/\n"
     ]
    }
   ],
   "source": [
    "# 파일을 다운로드 하기 전에 dict에 무엇이 있는지 확인해보기\n",
    "urls = [url['loc'] for url in sitemap['urlset']['url']]\n",
    "# 공간을 차지하지 않도록 맨 앞 URL 몇 개만 출력한다.\n",
    "print(\"\\n\".join(urls[0:3]))"
   ]
  },
  {
   "attachments": {},
   "cell_type": "markdown",
   "metadata": {},
   "source": [
    "#### RSS에서 URL 획득"
   ]
  },
  {
   "cell_type": "code",
   "execution_count": 18,
   "metadata": {},
   "outputs": [],
   "source": [
    "import feedparser\n",
    "feed = feedparser.parse('http://web.archive.org/web/20200613003232if_/http://feeds.reuters.com/Reuters/worldNews')"
   ]
  },
  {
   "cell_type": "code",
   "execution_count": 19,
   "metadata": {},
   "outputs": [
    {
     "data": {
      "text/plain": [
       "[('Mexico City to begin gradual exit from lockdown on Monday',\n",
       "  'http://feeds.reuters.com/~r/Reuters/worldNews/~3/OQtkVdAqHos/mexico-city-to-begin-gradual-exit-from-lockdown-on-monday-idUSKBN23K00R'),\n",
       " ('Mexico reports record tally of 5,222 new coronavirus cases',\n",
       "  'http://feeds.reuters.com/~r/Reuters/worldNews/~3/Rkz9j2G7lJU/mexico-reports-record-tally-of-5222-new-coronavirus-cases-idUSKBN23K00B'),\n",
       " ('Venezuela supreme court to swear in new electoral council leaders, government says',\n",
       "  'http://feeds.reuters.com/~r/Reuters/worldNews/~3/cc3R5aq4Ksk/venezuela-supreme-court-to-swear-in-new-electoral-council-leaders-government-says-idUSKBN23J39T'),\n",
       " (\"One-fifth of Britain's coronavirus patients were infected in hospitals: Telegraph\",\n",
       "  'http://feeds.reuters.com/~r/Reuters/worldNews/~3/1_7Wb0S_6-8/one-fifth-of-britains-coronavirus-patients-were-infected-in-hospitals-telegraph-idUSKBN23J382'),\n",
       " ('France to lift border controls for EU travellers on June 15',\n",
       "  'http://feeds.reuters.com/~r/Reuters/worldNews/~3/59BfrIYmz5w/france-to-lift-border-controls-for-eu-travellers-on-june-15-idUSKBN23J385'),\n",
       " (\"Brazil's COVID-19 deaths surge past UK, WHO says hospital system coping\",\n",
       "  'http://feeds.reuters.com/~r/Reuters/worldNews/~3/SVdaoPH85n4/brazils-covid-19-deaths-surge-past-uk-who-says-hospital-system-coping-idUSKBN23J30F'),\n",
       " (\"Canada's Trudeau calls arrest video of indigenous leader 'shocking'\",\n",
       "  'http://feeds.reuters.com/~r/Reuters/worldNews/~3/I7SImHlpjnM/canadas-trudeau-calls-arrest-video-of-indigenous-leader-shocking-idUSKBN23J2YF'),\n",
       " ('Egypt registers highest daily rise in coronavirus cases in nearly two weeks',\n",
       "  'http://feeds.reuters.com/~r/Reuters/worldNews/~3/EYyoma3WpSU/egypt-registers-highest-daily-rise-in-coronavirus-cases-in-nearly-two-weeks-idUSKBN23J36C'),\n",
       " ('Artists around the world pay tribute to George Floyd',\n",
       "  'http://feeds.reuters.com/~r/Reuters/worldNews/~3/r1LKkd3sJbs/artists-around-the-world-pay-tribute-to-george-floyd-idUSKBN23J35M'),\n",
       " (\"Brazil's COVID-19 death toll passes Britain, world's second highest\",\n",
       "  'http://feeds.reuters.com/~r/Reuters/worldNews/~3/g_uEz1XDgII/brazils-covid-19-death-toll-passes-britain-worlds-second-highest-idUSKBN23J35Q'),\n",
       " ('Lebanon protesters burn roads, clash with security in second night of unrest',\n",
       "  'http://feeds.reuters.com/~r/Reuters/worldNews/~3/nlJrlQbdQaw/lebanon-protesters-burn-roads-clash-with-security-in-second-night-of-unrest-idUSKBN23J33Z'),\n",
       " (\"'Stop buying social peace at our expense', French police tell government\",\n",
       "  'http://feeds.reuters.com/~r/Reuters/worldNews/~3/ZXOifRQXcjc/stop-buying-social-peace-at-our-expense-french-police-tell-government-idUSKBN23J17H'),\n",
       " ('Soccer team mobs coffin of murdered Mexican teen after moving tribute',\n",
       "  'http://feeds.reuters.com/~r/Reuters/worldNews/~3/KlaKFzEWF5s/soccer-team-mobs-coffin-of-murdered-mexican-teen-after-moving-tribute-idUSKBN23J33O'),\n",
       " (\"Chile's military moves through shadows to spot coronavirus curfew breakers\",\n",
       "  'http://feeds.reuters.com/~r/Reuters/worldNews/~3/kWg9jn4jS18/chiles-military-moves-through-shadows-to-spot-coronavirus-curfew-breakers-idUSKBN23J33D'),\n",
       " (\"Somalia's Islamist group al Shabaab says sets up COVID-19 treatment centre\",\n",
       "  'http://feeds.reuters.com/~r/Reuters/worldNews/~3/1AzaAZSLi50/somalias-islamist-group-al-shabaab-says-sets-up-covid-19-treatment-centre-idUSKBN23J32C'),\n",
       " (\"Congo's gold being smuggled out by the tonne, U.N. report finds\",\n",
       "  'http://feeds.reuters.com/~r/Reuters/worldNews/~3/0h7HNifS-EA/congos-gold-being-smuggled-out-by-the-tonne-u-n-report-finds-idUSKBN23J324'),\n",
       " ('Brazil drops police from human rights report amid global protests against racism and abuse',\n",
       "  'http://feeds.reuters.com/~r/Reuters/worldNews/~3/keFB_DL2_3Q/brazil-drops-police-from-human-rights-report-amid-global-protests-against-racism-and-abuse-idUSKBN23J316'),\n",
       " ('Slovenia to open borders for Italians, Montenegrins on June 15',\n",
       "  'http://feeds.reuters.com/~r/Reuters/worldNews/~3/Lp-FVxxomp8/slovenia-to-open-borders-for-italians-montenegrins-on-june-15-idUSKBN23J31U'),\n",
       " ('Botswana reinstates strict coronavirus lockdown in capital city',\n",
       "  'http://feeds.reuters.com/~r/Reuters/worldNews/~3/alBNYMaCpxA/botswana-reinstates-strict-coronavirus-lockdown-in-capital-city-idUSKBN23J31Q'),\n",
       " ('Coronavirus hitting the Americas hardest says World Health Organization',\n",
       "  'http://feeds.reuters.com/~r/Reuters/worldNews/~3/nOWjc9tZhig/coronavirus-hitting-the-americas-hardest-says-world-health-organization-idUSKBN23J2K3')]"
      ]
     },
     "execution_count": 19,
     "metadata": {},
     "output_type": "execute_result"
    }
   ],
   "source": [
    "[(e.title, e.link) for e in feed.entries]"
   ]
  },
  {
   "cell_type": "code",
   "execution_count": 20,
   "metadata": {},
   "outputs": [
    {
     "data": {
      "text/plain": [
       "['https://www.reuters.com/article/us-health-coronavirus-mexico-city/mexico-city-to-begin-gradual-exit-from-lockdown-on-monday-idUSKBN23K00R?feedType=RSS&feedName=worldNews',\n",
       " 'https://www.reuters.com/article/us-health-coronavirus-mexico/mexico-reports-record-tally-of-5222-new-coronavirus-cases-idUSKBN23K00B?feedType=RSS&feedName=worldNews',\n",
       " 'https://www.reuters.com/article/us-venezuela-politics/venezuela-supreme-court-to-swear-in-new-electoral-council-leaders-government-says-idUSKBN23J39T?feedType=RSS&feedName=worldNews',\n",
       " 'https://www.reuters.com/article/us-health-coronavirus-britain-hospitals/one-fifth-of-britains-coronavirus-patients-were-infected-in-hospitals-telegraph-idUSKBN23J382?feedType=RSS&feedName=worldNews',\n",
       " 'https://www.reuters.com/article/us-health-coronavirus-france-borders/france-to-lift-border-controls-for-eu-travellers-on-june-15-idUSKBN23J385?feedType=RSS&feedName=worldNews',\n",
       " 'https://www.reuters.com/article/us-health-coronavirus-brazil/brazils-covid-19-deaths-surge-past-uk-who-says-hospital-system-coping-idUSKBN23J30F?feedType=RSS&feedName=worldNews',\n",
       " 'https://www.reuters.com/article/us-canada-police-trudeau/canadas-trudeau-calls-arrest-video-of-indigenous-leader-shocking-idUSKBN23J2YF?feedType=RSS&feedName=worldNews',\n",
       " 'https://www.reuters.com/article/us-health-coronavirus-egypt-toll/egypt-registers-highest-daily-rise-in-coronavirus-cases-in-nearly-two-weeks-idUSKBN23J36C?feedType=RSS&feedName=worldNews',\n",
       " 'https://www.reuters.com/article/us-minneapolis-police-protests-art/artists-around-the-world-pay-tribute-to-george-floyd-idUSKBN23J35M?feedType=RSS&feedName=worldNews',\n",
       " 'https://www.reuters.com/article/us-health-coronavirus-brazil-numbers/brazils-covid-19-death-toll-passes-britain-worlds-second-highest-idUSKBN23J35Q?feedType=RSS&feedName=worldNews',\n",
       " 'https://www.reuters.com/article/us-lebanon-crisis-protests/lebanon-protesters-burn-roads-clash-with-security-in-second-night-of-unrest-idUSKBN23J33Z?feedType=RSS&feedName=worldNews',\n",
       " 'https://www.reuters.com/article/us-france-security-police/stop-buying-social-peace-at-our-expense-french-police-tell-government-idUSKBN23J17H?feedType=RSS&feedName=worldNews',\n",
       " 'https://www.reuters.com/article/us-minneapolis-police-mexico/soccer-team-mobs-coffin-of-murdered-mexican-teen-after-moving-tribute-idUSKBN23J33O?feedType=RSS&feedName=worldNews',\n",
       " 'https://www.reuters.com/article/us-health-coronavirus-chile-army/chiles-military-moves-through-shadows-to-spot-coronavirus-curfew-breakers-idUSKBN23J33D?feedType=RSS&feedName=worldNews',\n",
       " 'https://www.reuters.com/article/us-health-coronavirus-somalia/somalias-islamist-group-al-shabaab-says-sets-up-covid-19-treatment-centre-idUSKBN23J32C?feedType=RSS&feedName=worldNews',\n",
       " 'https://www.reuters.com/article/us-congo-gold/congos-gold-being-smuggled-out-by-the-tonne-u-n-report-finds-idUSKBN23J324?feedType=RSS&feedName=worldNews',\n",
       " 'https://www.reuters.com/article/us-brazil-violence/brazil-drops-police-from-human-rights-report-amid-global-protests-against-racism-and-abuse-idUSKBN23J316?feedType=RSS&feedName=worldNews',\n",
       " 'https://www.reuters.com/article/us-health-coronavirus-slovenia-italy/slovenia-to-open-borders-for-italians-montenegrins-on-june-15-idUSKBN23J31U?feedType=RSS&feedName=worldNews',\n",
       " 'https://www.reuters.com/article/us-health-coronavirus-botswana/botswana-reinstates-strict-coronavirus-lockdown-in-capital-city-idUSKBN23J31Q?feedType=RSS&feedName=worldNews',\n",
       " 'https://www.reuters.com/article/us-health-coronavirus-who/coronavirus-hitting-the-americas-hardest-says-world-health-organization-idUSKBN23J2K3?feedType=RSS&feedName=worldNews']"
      ]
     },
     "execution_count": 20,
     "metadata": {},
     "output_type": "execute_result"
    }
   ],
   "source": [
    "# 실제 URL 뽑아보기\n",
    "[e.id for e in feed.entries]"
   ]
  },
  {
   "attachments": {},
   "cell_type": "markdown",
   "metadata": {},
   "source": [
    "### 데이터 다운로드"
   ]
  },
  {
   "attachments": {},
   "cell_type": "markdown",
   "metadata": {},
   "source": [
    "### 파이썬을 사용한 HTML 페이지 다운로드"
   ]
  },
  {
   "cell_type": "code",
   "execution_count": 21,
   "metadata": {},
   "outputs": [
    {
     "name": "stdout",
     "output_type": "stream",
     "text": [
      "CPU times: total: 15.6 ms\n",
      "Wall time: 8.32 s\n"
     ]
    }
   ],
   "source": [
    "%%time\n",
    "output_directory = './data/'\n",
    "s = requests.Session()\n",
    "for url in urls[0:10] : \n",
    "    # URL의 마지막/뒤 부분을 가져와서 파일 이름으로 사용한다.\n",
    "    file = url.split(\"/\")[-1]\n",
    "    # file_path = os.path.join(output_directory, file)\n",
    "    \n",
    "    r = s.get(url)\n",
    "    if r.ok : \n",
    "        with open('./file', 'w+b') as f : \n",
    "            f.write(r.text.encode('utf-8'))\n",
    "    else : \n",
    "        print('error with URL %s' % url)"
   ]
  },
  {
   "attachments": {},
   "cell_type": "markdown",
   "metadata": {},
   "source": [
    "#### wget를 사용한 HTML 페이지 다운로드"
   ]
  },
  {
   "cell_type": "code",
   "execution_count": 22,
   "metadata": {},
   "outputs": [],
   "source": [
    "with open('urls.txt', 'w+b') as f : \n",
    "    f.write('\\n'.join(urls).encode('utf-8'))"
   ]
  },
  {
   "attachments": {},
   "cell_type": "markdown",
   "metadata": {},
   "source": [
    "### 반정형 데이터 추출"
   ]
  },
  {
   "attachments": {},
   "cell_type": "markdown",
   "metadata": {},
   "source": [
    "#### 정규 표현식을 사용한 추출"
   ]
  },
  {
   "cell_type": "code",
   "execution_count": 23,
   "metadata": {},
   "outputs": [],
   "source": [
    "url = 'https://www.reuters.com/article/us-health-vaping-marijuana-idUSKBN1WG4KT'\n",
    "\n",
    "# 마지막 / 뒤의 부분을 파일 이름으로 사용하기\n",
    "file = url.split('/')[-1] + '.html'\n",
    "r = requests.get(url)\n",
    "with open(file, 'w+b') as f : \n",
    "    f.write(r.text.encode('utf-8'))"
   ]
  },
  {
   "cell_type": "code",
   "execution_count": 25,
   "metadata": {},
   "outputs": [
    {
     "name": "stdout",
     "output_type": "stream",
     "text": [
      "Banned in Boston: Without vaping, medical marijuana patients must adapt | Reuters\n"
     ]
    }
   ],
   "source": [
    "with open(file, \"r\", encoding='utf-8') as f:\n",
    "    html = f.read()\n",
    "    g = re.search(r'<title>(.*)</title>', html, re.MULTILINE|re.DOTALL)\n",
    "    if g:\n",
    "        print(g.groups()[0])"
   ]
  },
  {
   "attachments": {},
   "cell_type": "markdown",
   "metadata": {},
   "source": [
    "#### HTML 파서를 사용한 데이터 추출"
   ]
  },
  {
   "cell_type": "code",
   "execution_count": 26,
   "metadata": {},
   "outputs": [],
   "source": [
    "WA_PREFIX = 'http://web.archive.org/web/20200118131624/'\n",
    "html = s.get(WA_PREFIX + url).text"
   ]
  },
  {
   "cell_type": "code",
   "execution_count": 27,
   "metadata": {},
   "outputs": [
    {
     "data": {
      "text/plain": [
       "[<h1 class=\"ArticleHeader_headline\">Banned in Boston: Without vaping, medical marijuana patients must adapt</h1>]"
      ]
     },
     "execution_count": 27,
     "metadata": {},
     "output_type": "execute_result"
    }
   ],
   "source": [
    "soup = BeautifulSoup(html, 'html.parser')\n",
    "soup.select('h1.ArticleHeader_headline')"
   ]
  },
  {
   "cell_type": "code",
   "execution_count": 28,
   "metadata": {},
   "outputs": [
    {
     "data": {
      "text/plain": [
       "<h1 class=\"ArticleHeader_headline\">Banned in Boston: Without vaping, medical marijuana patients must adapt</h1>"
      ]
     },
     "execution_count": 28,
     "metadata": {},
     "output_type": "execute_result"
    }
   ],
   "source": [
    "soup.h1"
   ]
  },
  {
   "cell_type": "code",
   "execution_count": 29,
   "metadata": {},
   "outputs": [
    {
     "data": {
      "text/plain": [
       "'Banned in Boston: Without vaping, medical marijuana patients must adapt'"
      ]
     },
     "execution_count": 29,
     "metadata": {},
     "output_type": "execute_result"
    }
   ],
   "source": [
    "soup.h1.text"
   ]
  },
  {
   "cell_type": "code",
   "execution_count": 30,
   "metadata": {},
   "outputs": [
    {
     "data": {
      "text/plain": [
       "'\\n                Banned in Boston: Without vaping, medical marijuana patients must adapt - Reuters'"
      ]
     },
     "execution_count": 30,
     "metadata": {},
     "output_type": "execute_result"
    }
   ],
   "source": [
    "soup.title.text"
   ]
  },
  {
   "attachments": {},
   "cell_type": "markdown",
   "metadata": {},
   "source": [
    "##### 기사 텍스트 추출"
   ]
  },
  {
   "cell_type": "code",
   "execution_count": 31,
   "metadata": {},
   "outputs": [
    {
     "data": {
      "text/plain": [
       "'BOSTON (Reuters) - In the first few days of the four-month ban on all vaping products in Massachusetts, Laura Lee Medeiros, a medical marijuana patient, began to worry.\\xa0 FILE PHOTO: An employee puts down an eighth of an ounce marijuana after letting a customer smell it outside the Magnolia cannabis lounge in Oakland, California, U.S. April 20, 2018. REUTERS/Elijah NouvelageThe 32-year-old massage therapist has a diagnosis of post-traumatic stress disorder (PTSD) from childhood trauma. To temper her unpredictable panic attacks, she relied on a vape pen and cartridges filled with the marijuana derivatives THC and CBD from state dispensaries. There are other ways to get the desired effect from  marijuana, and patients have filled dispensaries across the state in recent days to ask about edible or smokeable forms. But Medeiros has come to depend on her battery-powered pen, and wondered how she would cope without her usual supply of cartridges.  “In the midst of something where I’m on the floor, on the verge of passing out, my pen has been very helpful for me to grab,” she said. She carries her vape pen in her purse in case of an emergency, but has only one cartridge left. Massachusetts imposed its ban on all vaping products, including both nicotine- and cannabis-based products, in response to mounting concern about the potential serious health risks. Governor Charlie Baker, a Republican, said the ban would last at least four months while new legislation and regulation is explored.  More than 800 cases of a vaping-related lung disease and 12 deaths across 10 U.S. states have so far been reported by the U.S. Centers for Disease Control and Prevention. Those numbers are expected to climb.  More than three quarters of those with the respiratory illness reported vaping THC, the main psychoactive ingredient of marijuana. Many of them used small e-cigarette cartridges, or “carts,” bought on the black market, where the risk of adulterated products is high. Marijuana remains illegal under federal law, but a growing number of states allow it for medical or recreational use. Massachusetts is one of 10 U.S. states that allows both uses, along with the District of Columbia. Some marijuana users had long eschewed vaping even before the ban, often on the advice of doctors who saw the cocktail of compounds being inhaled into lungs as risky. “I have advised against the vape carts for my patients for a long time exactly out of suspicion of basically what just happened,” said Dr. Ryan Zaklin, a doctor in Salem, Massachusetts. “Who the hell knows what they’re putting in them?” Some patients like vaping because it is more discreet than traditional burning of marijuana “flower.” The devices are small, produce a relatively odorless “vapor” and is fast-acting: a handheld device rapidly heats liquid compounds into an aerosol that can be inhaled into the lungs.  Many of those patients are now asking their doctors or dispensaries about edible forms of marijuana, liquid tinctures that can be dropped under the tongue or old-fashioned flower buds and pre-rolled joints for smoking.  For Medeiros, who lives in the small coastal city of Peabody, other methods are a poor substitute. She found that edibles take time to take effect, typically about an hour. Tinctures seemed to her similarly slow-acting. And rolling a joint while her vision is closing in and she is hyperventilating from a panic attack is nearly impossible, she said. UNEXPECTED BLESSING Medeiros wishes medical marijuana patients had been given time to stock up on the products they use before the ban went into immediate effect.  Pressed on such concerns, the governor has not been swayed to change his decision over what he said was a public health emergency. “There are many alternative uses available to people who currently have prescriptions for medical marijuana and they should pursue those,” Baker told reporters last week, according to local media. But some public health experts have warned the ban may drive more people toward riskier black-market, totally unregulated vape products.      At the New England Treatment Access (NETA) dispensary in Brookline, near Boston, which has become one of the biggest suppliers of medical marijuana since the drug became legalized in the state in 2012, several patients said they view the ban as an unexpected blessing. Denise Sullivan, 62, uses medical marijuana to treat symptoms of her leukemia. She had vaped for more than a year, but stopped after she heard about the ban. During the period she vaped, she contracted pneumonia five times, she said, and now believes that might have been vape related.\\xa0 “I can tell when I vape I am more congested not in my lungs but in my sinuses,” she said. She plans to use edibles, which she said kick in with enough time to treat her pain. Slideshow (2 Images)Kate LeDoux, 49, had a similar experience. She is a runner and used medical marijuana to help recovery from recent foot surgery.  LeDoux stopped vaping a few weeks ago after seeing the news about the lung disease, turning instead to edibles and smoking. Almost immediately, her “weird cough” cleared up and her running times improved, she said. “Now I know it was 100 percent the vaping.” (This story has been refiled to to correct date). Reporting Jacqueline Tempera in Brookline and Boston, Massachusetts, and Jonathan Allen in New York; Editing by Frank McGurty and Bill BerkrotOur Standards:The Thomson Reuters Trust Principles.'"
      ]
     },
     "execution_count": 31,
     "metadata": {},
     "output_type": "execute_result"
    }
   ],
   "source": [
    "soup.select_one('div.StandardArticleBody_body').text"
   ]
  },
  {
   "attachments": {},
   "cell_type": "markdown",
   "metadata": {},
   "source": [
    "##### 이미지 캡션 추출"
   ]
  },
  {
   "cell_type": "code",
   "execution_count": 32,
   "metadata": {},
   "outputs": [
    {
     "data": {
      "text/plain": [
       "[<img aria-label=\"FILE PHOTO: An employee puts down an eighth of an ounce marijuana after letting a customer smell it outside the Magnolia cannabis lounge in Oakland, California, U.S. April 20, 2018. REUTERS/Elijah Nouvelage\" src=\"//web.archive.org/web/20200118131624im_/https://s3.reutersmedia.net/resources/r/?m=02&amp;d=20191001&amp;t=2&amp;i=1435991144&amp;r=LYNXMPEF9039L&amp;w=20\"/>,\n",
       " <img src=\"//web.archive.org/web/20200118131624im_/https://s3.reutersmedia.net/resources/r/?m=02&amp;d=20191001&amp;t=2&amp;i=1435991145&amp;r=LYNXMPEF9039M\"/>]"
      ]
     },
     "execution_count": 32,
     "metadata": {},
     "output_type": "execute_result"
    }
   ],
   "source": [
    "soup.select('div.StandardArticleBody_body figure img')"
   ]
  },
  {
   "cell_type": "code",
   "execution_count": 33,
   "metadata": {},
   "outputs": [
    {
     "data": {
      "text/plain": [
       "[<figcaption><div class=\"Image_caption\"><span>FILE PHOTO: An employee puts down an eighth of an ounce marijuana after letting a customer smell it outside the Magnolia cannabis lounge in Oakland, California, U.S. April 20, 2018. REUTERS/Elijah Nouvelage</span></div></figcaption>,\n",
       " <figcaption class=\"Slideshow_caption\">Slideshow<span class=\"Slideshow_count\"> (2 Images)</span></figcaption>]"
      ]
     },
     "execution_count": 33,
     "metadata": {},
     "output_type": "execute_result"
    }
   ],
   "source": [
    "# 이미지의 캡션에 관심이 있는 경우\n",
    "soup.select('div.StandardArticleBody_body figcaption')"
   ]
  },
  {
   "attachments": {},
   "cell_type": "markdown",
   "metadata": {},
   "source": [
    "##### URL 추출"
   ]
  },
  {
   "cell_type": "code",
   "execution_count": 34,
   "metadata": {},
   "outputs": [
    {
     "data": {
      "text/plain": [
       "'http://web.archive.org/web/20200118131624/https://www.reuters.com/article/us-health-vaping-marijuana-idUSKBN1WG4KT'"
      ]
     },
     "execution_count": 34,
     "metadata": {},
     "output_type": "execute_result"
    }
   ],
   "source": [
    "# 표준 URL : canonical\n",
    "soup.find('link', {'rel':'canonical'})['href']"
   ]
  },
  {
   "attachments": {},
   "cell_type": "markdown",
   "metadata": {},
   "source": [
    "##### 목록 정보(작성자) 추출"
   ]
  },
  {
   "cell_type": "code",
   "execution_count": 35,
   "metadata": {},
   "outputs": [
    {
     "data": {
      "text/plain": [
       "'Jacqueline Tempera'"
      ]
     },
     "execution_count": 35,
     "metadata": {},
     "output_type": "execute_result"
    }
   ],
   "source": [
    "soup.find('meta', {'name':'Author'})['content']"
   ]
  },
  {
   "cell_type": "code",
   "execution_count": 36,
   "metadata": {},
   "outputs": [
    {
     "data": {
      "text/plain": [
       "[<span><a href=\"/web/20200118131624/https://www.reuters.com/journalists/jacqueline-tempera\" target=\"_blank\">Jacqueline Tempera</a>, </span>,\n",
       " <span><a href=\"/web/20200118131624/https://www.reuters.com/journalists/jonathan-allen\" target=\"_blank\">Jonathan Allen</a></span>]"
      ]
     },
     "execution_count": 36,
     "metadata": {},
     "output_type": "execute_result"
    }
   ],
   "source": [
    "# 모든 작성자 추출하기\n",
    "sel = \"div.BylineBar_first-container.ArticleHeader_byline-bar div.BylineBar_byline span\"\n",
    "soup.select(sel)"
   ]
  },
  {
   "cell_type": "code",
   "execution_count": 37,
   "metadata": {},
   "outputs": [
    {
     "data": {
      "text/plain": [
       "['Jacqueline Tempera, ', 'Jonathan Allen']"
      ]
     },
     "execution_count": 37,
     "metadata": {},
     "output_type": "execute_result"
    }
   ],
   "source": [
    "# 작성자 이름만 추출\n",
    "[a.text for a in soup.select(sel)]"
   ]
  },
  {
   "attachments": {},
   "cell_type": "markdown",
   "metadata": {},
   "source": [
    "##### 링크 텍스트 추출(섹션)"
   ]
  },
  {
   "cell_type": "code",
   "execution_count": 38,
   "metadata": {},
   "outputs": [
    {
     "data": {
      "text/plain": [
       "'Health News'"
      ]
     },
     "execution_count": 38,
     "metadata": {},
     "output_type": "execute_result"
    }
   ],
   "source": [
    "soup.select_one('div.ArticleHeader_channel a').text"
   ]
  },
  {
   "attachments": {},
   "cell_type": "markdown",
   "metadata": {},
   "source": [
    "##### 읽기 시간 추출"
   ]
  },
  {
   "cell_type": "code",
   "execution_count": 39,
   "metadata": {},
   "outputs": [
    {
     "data": {
      "text/plain": [
       "'6 Min Read'"
      ]
     },
     "execution_count": 39,
     "metadata": {},
     "output_type": "execute_result"
    }
   ],
   "source": [
    "soup.select_one('p.BylineBar_reading-time').text"
   ]
  },
  {
   "attachments": {},
   "cell_type": "markdown",
   "metadata": {},
   "source": [
    "##### ID속성 추출"
   ]
  },
  {
   "cell_type": "code",
   "execution_count": 41,
   "metadata": {},
   "outputs": [
    {
     "data": {
      "text/plain": [
       "'USKBN1WG4KT'"
      ]
     },
     "execution_count": 41,
     "metadata": {},
     "output_type": "execute_result"
    }
   ],
   "source": [
    "soup.select_one('div.StandardArticle_inner-container')['id']"
   ]
  },
  {
   "attachments": {},
   "cell_type": "markdown",
   "metadata": {},
   "source": [
    "##### 속성 추출\n",
    "- 속성 정보 : 텍스트 끝에서 찾을 수 있음."
   ]
  },
  {
   "cell_type": "code",
   "execution_count": 42,
   "metadata": {},
   "outputs": [
    {
     "data": {
      "text/plain": [
       "'Reporting Jacqueline Tempera in Brookline and Boston, Massachusetts, and Jonathan Allen in New York; Editing by Frank McGurty and Bill Berkrot'"
      ]
     },
     "execution_count": 42,
     "metadata": {},
     "output_type": "execute_result"
    }
   ],
   "source": [
    "soup.select_one('p.Attribution_content').text"
   ]
  },
  {
   "attachments": {},
   "cell_type": "markdown",
   "metadata": {},
   "source": [
    "##### 타임스탬프 추출"
   ]
  },
  {
   "cell_type": "code",
   "execution_count": 44,
   "metadata": {},
   "outputs": [
    {
     "name": "stdout",
     "output_type": "stream",
     "text": [
      "2019-10-01T19:23:16+0000\n"
     ]
    }
   ],
   "source": [
    "ptime = soup.find('meta', {'property' : 'og:article:published_time'})['content']\n",
    "print(ptime)"
   ]
  },
  {
   "cell_type": "code",
   "execution_count": 47,
   "metadata": {},
   "outputs": [
    {
     "data": {
      "text/plain": [
       "datetime.datetime(2019, 10, 1, 19, 23, 16, tzinfo=tzutc())"
      ]
     },
     "execution_count": 47,
     "metadata": {},
     "output_type": "execute_result"
    }
   ],
   "source": [
    "# datetime객체로 변환하기\n",
    "parser.parse(ptime)"
   ]
  },
  {
   "attachments": {},
   "cell_type": "markdown",
   "metadata": {},
   "source": [
    "#### 스파이더링(웹 크롤링)"
   ]
  },
  {
   "cell_type": "code",
   "execution_count": null,
   "metadata": {},
   "outputs": [],
   "source": []
  }
 ],
 "metadata": {
  "kernelspec": {
   "display_name": "Python 3",
   "language": "python",
   "name": "python3"
  },
  "language_info": {
   "codemirror_mode": {
    "name": "ipython",
    "version": 3
   },
   "file_extension": ".py",
   "mimetype": "text/x-python",
   "name": "python",
   "nbconvert_exporter": "python",
   "pygments_lexer": "ipython3",
   "version": "3.9.13"
  },
  "orig_nbformat": 4
 },
 "nbformat": 4,
 "nbformat_minor": 2
}
